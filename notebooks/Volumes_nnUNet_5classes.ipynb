{
 "cells": [
  {
   "cell_type": "code",
   "execution_count": null,
   "id": "283ea6c5-6997-4571-b7c7-9259f91ed3af",
   "metadata": {},
   "outputs": [],
   "source": [
    "import pandas as pd\n",
    "import glob\n",
    "import os\n",
    "import shutil\n",
    "from joblib import Parallel, delayed\n",
    "import nibabel as nib\n",
    "import numpy as np\n",
    "import random\n",
    "import seaborn as sns\n",
    "from datetime import datetime"
   ]
  },
  {
   "cell_type": "code",
   "execution_count": null,
   "id": "0f8cdd1c-d237-4d8d-b59e-70ee9a6bbe4d",
   "metadata": {},
   "outputs": [],
   "source": [
    "import sys\n",
    "sys.path.append('/media/raid/orco/data/ICH/code/neurorad_bids_utils')\n",
    "from bids_utils.utils import utils, mask_utils"
   ]
  },
  {
   "cell_type": "code",
   "execution_count": null,
   "id": "b9208cb3-9e23-48c3-bb5c-1d10a93db925",
   "metadata": {},
   "outputs": [],
   "source": [
    "dataset_names = ['Dataset011_5FoldCV', 'Dataset012_5FoldCV', 'Dataset013_5FoldCV', 'Dataset014_5FoldCV', 'Dataset015_5FoldCV']"
   ]
  },
  {
   "cell_type": "code",
   "execution_count": null,
   "id": "b3d5d87f-1005-497f-860e-1806ed9392cf",
   "metadata": {},
   "outputs": [],
   "source": [
    "preds = glob.glob('/home/orco/data/VentrikelCNN/derivatives/nnUNet/nnUNet_raw/Dataset01*/test*/*.nii.gz')\n",
    "len(preds)"
   ]
  },
  {
   "cell_type": "code",
   "execution_count": null,
   "id": "519dabf4-bbdf-40ae-9655-d1edf431aafe",
   "metadata": {},
   "outputs": [],
   "source": [
    "df = pd.DataFrame(preds)\n",
    "df.columns = ['prediction']\n",
    "df['gt'] = df.prediction.apply(lambda x: x.replace('test_fold1', 'labelsTs'))\n",
    "df['ds'] = df.prediction.apply(lambda x: x.split('/')[-3])"
   ]
  },
  {
   "cell_type": "code",
   "execution_count": null,
   "id": "0c0fe057-f014-49fd-889f-654df5080546",
   "metadata": {},
   "outputs": [],
   "source": [
    "res = []\n",
    "for i,j in zip(list(df.prediction),list(df['gt'])):\n",
    "    res.append([i,j] + utils.mp_vol_nii_n(i, [1,2,3,4,5], n_jobs=50) + utils.mp_vol_nii_n(j, [1,2,3,4,5], n_jobs=50))"
   ]
  },
  {
   "cell_type": "code",
   "execution_count": null,
   "id": "61026640-1704-4437-bf4d-b262aed8ef59",
   "metadata": {},
   "outputs": [],
   "source": [
    "df = pd.DataFrame(res)"
   ]
  },
  {
   "cell_type": "code",
   "execution_count": null,
   "id": "91d1e0b6-f838-40d3-b288-15f66a4e7c9a",
   "metadata": {},
   "outputs": [],
   "source": [
    "df.head()"
   ]
  },
  {
   "cell_type": "code",
   "execution_count": null,
   "id": "4dc72ce5-8d4c-4922-a9de-bb02e08e6fb7",
   "metadata": {},
   "outputs": [],
   "source": [
    "df.columns = ['prediction', 'gt', 'Vol_left', 'Vol_right', 'Vol_3rd', 'Vol_4th', 'Vol_Acq', 'gt_Vol_left', 'gt_Vol_right', 'gt_Vol_3rd', 'gt_Vol_4th', 'gt_Vol_Acq']\n"
   ]
  },
  {
   "cell_type": "code",
   "execution_count": null,
   "id": "d645fd17-1641-4876-a54f-d54aa0ce1632",
   "metadata": {},
   "outputs": [],
   "source": [
    "df['sid'] = df.prediction.apply(lambda x: os.path.basename(x).split('_')[1].replace('.nii.gz',''))"
   ]
  },
  {
   "cell_type": "code",
   "execution_count": null,
   "id": "b410f692-c076-4830-862d-8e33ffba591f",
   "metadata": {},
   "outputs": [],
   "source": [
    "df['sid'] = 'sub-V' + df.sid"
   ]
  },
  {
   "cell_type": "code",
   "execution_count": null,
   "id": "15360c1c-345d-4e3c-a58f-d506d7511597",
   "metadata": {},
   "outputs": [],
   "source": [
    "df.head()"
   ]
  },
  {
   "cell_type": "code",
   "execution_count": null,
   "id": "4dee0413-cfe6-4b94-b14f-be7ce2fde264",
   "metadata": {},
   "outputs": [],
   "source": [
    "frees_etivs = '/home/orco/data/VentrikelCNN/code/stats/freesurfer_eTIVs.csv'\n",
    "etivs = pd.read_csv(frees_etivs)"
   ]
  },
  {
   "cell_type": "code",
   "execution_count": null,
   "id": "b43945b9-93d3-4f2e-92ad-879bc8f75bd1",
   "metadata": {},
   "outputs": [],
   "source": [
    "etivs.head()"
   ]
  },
  {
   "cell_type": "code",
   "execution_count": null,
   "id": "67284e95-eefd-43c1-9afe-6d8f5ceb9d78",
   "metadata": {},
   "outputs": [],
   "source": [
    "etivs['sid'] = etivs.path.apply(lambda x: x.split('/')[9])\n",
    "etivs.head()                   "
   ]
  },
  {
   "cell_type": "code",
   "execution_count": null,
   "id": "3e986e27-bad3-48d9-a0b2-3bf561ebc61c",
   "metadata": {},
   "outputs": [],
   "source": [
    "df = df.merge(etivs, on='sid').drop(columns='path')\n",
    "df = df[['sid', 'eTIV'] +[i for i in df.columns if i.startswith('Vol') or i.startswith('gt_Vol')]]\n",
    "df.head()"
   ]
  },
  {
   "cell_type": "code",
   "execution_count": null,
   "id": "c6344ef1-4309-4c28-9ea5-34ebc0090831",
   "metadata": {},
   "outputs": [],
   "source": []
  },
  {
   "cell_type": "code",
   "execution_count": null,
   "id": "a7484c5e-654f-4448-b6f2-9e4c37856cc5",
   "metadata": {},
   "outputs": [],
   "source": [
    "date = '{}{}{}'.format(datetime.now().year, datetime.now().month, datetime.now().day)\n",
    "date"
   ]
  },
  {
   "cell_type": "code",
   "execution_count": null,
   "id": "98762b0a-81b4-453d-af3e-3e59572364b1",
   "metadata": {},
   "outputs": [],
   "source": []
  },
  {
   "cell_type": "code",
   "execution_count": null,
   "id": "80bf9f1e-deb4-451f-92cb-d64ad8a93608",
   "metadata": {},
   "outputs": [],
   "source": [
    "df.to_csv('./data/volumes_nnUNet_GT_5classes_{}_{}.csv'.format('5FoldCV', date), index=False)"
   ]
  },
  {
   "cell_type": "code",
   "execution_count": null,
   "id": "134fa7fb-588d-49e5-8775-6108f6a3b35c",
   "metadata": {},
   "outputs": [],
   "source": []
  }
 ],
 "metadata": {
  "kernelspec": {
   "display_name": "Python 3 (ipykernel)",
   "language": "python",
   "name": "python3"
  },
  "language_info": {
   "codemirror_mode": {
    "name": "ipython",
    "version": 3
   },
   "file_extension": ".py",
   "mimetype": "text/x-python",
   "name": "python",
   "nbconvert_exporter": "python",
   "pygments_lexer": "ipython3",
   "version": "3.10.13"
  }
 },
 "nbformat": 4,
 "nbformat_minor": 5
}
