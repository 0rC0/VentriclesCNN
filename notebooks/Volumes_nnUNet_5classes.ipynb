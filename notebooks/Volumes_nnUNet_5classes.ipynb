{
 "cells": [
  {
   "cell_type": "code",
   "execution_count": 1,
   "id": "283ea6c5-6997-4571-b7c7-9259f91ed3af",
   "metadata": {},
   "outputs": [],
   "source": [
    "import pandas as pd\n",
    "import glob\n",
    "import os\n",
    "import shutil\n",
    "import re\n",
    "from joblib import Parallel, delayed\n",
    "import nibabel as nib\n",
    "import numpy as np\n",
    "import random\n",
    "import seaborn as sns\n",
    "from datetime import datetime"
   ]
  },
  {
   "cell_type": "code",
   "execution_count": 2,
   "id": "0f8cdd1c-d237-4d8d-b59e-70ee9a6bbe4d",
   "metadata": {},
   "outputs": [],
   "source": [
    "import sys\n",
    "sys.path.append('/media/raid/orco/data/ICH/code/neurorad_bids_utils')\n",
    "from bids_utils.utils import utils, mask_utils"
   ]
  },
  {
   "cell_type": "code",
   "execution_count": 3,
   "id": "b9208cb3-9e23-48c3-bb5c-1d10a93db925",
   "metadata": {},
   "outputs": [],
   "source": [
    "dataset_names = ['Dataset011_5FoldCV', 'Dataset012_5FoldCV', 'Dataset013_5FoldCV', 'Dataset014_5FoldCV', 'Dataset015_5FoldCV']"
   ]
  },
  {
   "cell_type": "code",
   "execution_count": 4,
   "id": "b3d5d87f-1005-497f-860e-1806ed9392cf",
   "metadata": {},
   "outputs": [
    {
     "data": {
      "text/plain": [
       "154"
      ]
     },
     "execution_count": 4,
     "metadata": {},
     "output_type": "execute_result"
    }
   ],
   "source": [
    "preds = glob.glob('/home/orco/data/VentrikelCNN/derivatives/nnUNet/nnUNet_raw/Dataset01*/test*/*.nii.gz')\n",
    "len(preds)"
   ]
  },
  {
   "cell_type": "code",
   "execution_count": 5,
   "id": "519dabf4-bbdf-40ae-9655-d1edf431aafe",
   "metadata": {},
   "outputs": [],
   "source": [
    "df = pd.DataFrame(preds)\n",
    "df.columns = ['prediction']\n",
    "df['gt'] = df.prediction.apply(lambda x: x.replace('test_fold1', 'labelsTs'))\n",
    "df['ds'] = df.prediction.apply(lambda x: x.split('/')[-3])"
   ]
  },
  {
   "cell_type": "code",
   "execution_count": 6,
   "id": "0c0fe057-f014-49fd-889f-654df5080546",
   "metadata": {},
   "outputs": [
    {
     "name": "stderr",
     "output_type": "stream",
     "text": [
      "/media/raid/orco/data/ICH/code/neurorad_bids_utils/bids_utils/utils/utils.py:24: RuntimeWarning: invalid value encountered in scalar divide\n",
      "  return 2*intersection/(a_arr.sum()+b_arr.sum())\n"
     ]
    }
   ],
   "source": [
    "res = []\n",
    "for i,j in zip(list(df.prediction),list(df['gt'])):\n",
    "    res.append([i,j] + utils.mp_dice_n(i, j, [1,2,3,4,5]))"
   ]
  },
  {
   "cell_type": "code",
   "execution_count": 7,
   "id": "61026640-1704-4437-bf4d-b262aed8ef59",
   "metadata": {},
   "outputs": [],
   "source": [
    "df = pd.DataFrame(res)"
   ]
  },
  {
   "cell_type": "code",
   "execution_count": 8,
   "id": "91d1e0b6-f838-40d3-b288-15f66a4e7c9a",
   "metadata": {},
   "outputs": [
    {
     "data": {
      "text/html": [
       "<div>\n",
       "<style scoped>\n",
       "    .dataframe tbody tr th:only-of-type {\n",
       "        vertical-align: middle;\n",
       "    }\n",
       "\n",
       "    .dataframe tbody tr th {\n",
       "        vertical-align: top;\n",
       "    }\n",
       "\n",
       "    .dataframe thead th {\n",
       "        text-align: right;\n",
       "    }\n",
       "</style>\n",
       "<table border=\"1\" class=\"dataframe\">\n",
       "  <thead>\n",
       "    <tr style=\"text-align: right;\">\n",
       "      <th></th>\n",
       "      <th>0</th>\n",
       "      <th>1</th>\n",
       "      <th>2</th>\n",
       "      <th>3</th>\n",
       "      <th>4</th>\n",
       "      <th>5</th>\n",
       "      <th>6</th>\n",
       "    </tr>\n",
       "  </thead>\n",
       "  <tbody>\n",
       "    <tr>\n",
       "      <th>0</th>\n",
       "      <td>/home/orco/data/VentrikelCNN/derivatives/nnUNe...</td>\n",
       "      <td>/home/orco/data/VentrikelCNN/derivatives/nnUNe...</td>\n",
       "      <td>0.945415</td>\n",
       "      <td>0.955518</td>\n",
       "      <td>0.969490</td>\n",
       "      <td>0.963869</td>\n",
       "      <td>0.845411</td>\n",
       "    </tr>\n",
       "    <tr>\n",
       "      <th>1</th>\n",
       "      <td>/home/orco/data/VentrikelCNN/derivatives/nnUNe...</td>\n",
       "      <td>/home/orco/data/VentrikelCNN/derivatives/nnUNe...</td>\n",
       "      <td>0.981807</td>\n",
       "      <td>0.984666</td>\n",
       "      <td>0.965899</td>\n",
       "      <td>0.948001</td>\n",
       "      <td>0.816176</td>\n",
       "    </tr>\n",
       "    <tr>\n",
       "      <th>2</th>\n",
       "      <td>/home/orco/data/VentrikelCNN/derivatives/nnUNe...</td>\n",
       "      <td>/home/orco/data/VentrikelCNN/derivatives/nnUNe...</td>\n",
       "      <td>0.979531</td>\n",
       "      <td>0.961349</td>\n",
       "      <td>0.955765</td>\n",
       "      <td>0.766721</td>\n",
       "      <td>0.392157</td>\n",
       "    </tr>\n",
       "    <tr>\n",
       "      <th>3</th>\n",
       "      <td>/home/orco/data/VentrikelCNN/derivatives/nnUNe...</td>\n",
       "      <td>/home/orco/data/VentrikelCNN/derivatives/nnUNe...</td>\n",
       "      <td>0.944871</td>\n",
       "      <td>0.944085</td>\n",
       "      <td>0.834331</td>\n",
       "      <td>0.920129</td>\n",
       "      <td>0.795181</td>\n",
       "    </tr>\n",
       "    <tr>\n",
       "      <th>4</th>\n",
       "      <td>/home/orco/data/VentrikelCNN/derivatives/nnUNe...</td>\n",
       "      <td>/home/orco/data/VentrikelCNN/derivatives/nnUNe...</td>\n",
       "      <td>0.891487</td>\n",
       "      <td>0.974966</td>\n",
       "      <td>0.931481</td>\n",
       "      <td>0.926316</td>\n",
       "      <td>0.000000</td>\n",
       "    </tr>\n",
       "  </tbody>\n",
       "</table>\n",
       "</div>"
      ],
      "text/plain": [
       "                                                   0  \\\n",
       "0  /home/orco/data/VentrikelCNN/derivatives/nnUNe...   \n",
       "1  /home/orco/data/VentrikelCNN/derivatives/nnUNe...   \n",
       "2  /home/orco/data/VentrikelCNN/derivatives/nnUNe...   \n",
       "3  /home/orco/data/VentrikelCNN/derivatives/nnUNe...   \n",
       "4  /home/orco/data/VentrikelCNN/derivatives/nnUNe...   \n",
       "\n",
       "                                                   1         2         3  \\\n",
       "0  /home/orco/data/VentrikelCNN/derivatives/nnUNe...  0.945415  0.955518   \n",
       "1  /home/orco/data/VentrikelCNN/derivatives/nnUNe...  0.981807  0.984666   \n",
       "2  /home/orco/data/VentrikelCNN/derivatives/nnUNe...  0.979531  0.961349   \n",
       "3  /home/orco/data/VentrikelCNN/derivatives/nnUNe...  0.944871  0.944085   \n",
       "4  /home/orco/data/VentrikelCNN/derivatives/nnUNe...  0.891487  0.974966   \n",
       "\n",
       "          4         5         6  \n",
       "0  0.969490  0.963869  0.845411  \n",
       "1  0.965899  0.948001  0.816176  \n",
       "2  0.955765  0.766721  0.392157  \n",
       "3  0.834331  0.920129  0.795181  \n",
       "4  0.931481  0.926316  0.000000  "
      ]
     },
     "execution_count": 8,
     "metadata": {},
     "output_type": "execute_result"
    }
   ],
   "source": [
    "df.head()"
   ]
  },
  {
   "cell_type": "code",
   "execution_count": 9,
   "id": "4dc72ce5-8d4c-4922-a9de-bb02e08e6fb7",
   "metadata": {},
   "outputs": [],
   "source": [
    "df.columns = ['prediction', 'gt', 'Vol_left', 'Vol_right', 'Vol_3rd', 'Vol_4th', 'Vol_Acq']\n"
   ]
  },
  {
   "cell_type": "code",
   "execution_count": 10,
   "id": "d645fd17-1641-4876-a54f-d54aa0ce1632",
   "metadata": {},
   "outputs": [],
   "source": [
    "df['sid'] = df.prediction.apply(lambda x: os.path.basename(x).split('_')[1].replace('.nii.gz',''))"
   ]
  },
  {
   "cell_type": "code",
   "execution_count": 14,
   "id": "b410f692-c076-4830-862d-8e33ffba591f",
   "metadata": {},
   "outputs": [],
   "source": [
    "df['sid'] = 'sub-V' + df.sid"
   ]
  },
  {
   "cell_type": "code",
   "execution_count": 15,
   "id": "15360c1c-345d-4e3c-a58f-d506d7511597",
   "metadata": {},
   "outputs": [
    {
     "data": {
      "text/html": [
       "<div>\n",
       "<style scoped>\n",
       "    .dataframe tbody tr th:only-of-type {\n",
       "        vertical-align: middle;\n",
       "    }\n",
       "\n",
       "    .dataframe tbody tr th {\n",
       "        vertical-align: top;\n",
       "    }\n",
       "\n",
       "    .dataframe thead th {\n",
       "        text-align: right;\n",
       "    }\n",
       "</style>\n",
       "<table border=\"1\" class=\"dataframe\">\n",
       "  <thead>\n",
       "    <tr style=\"text-align: right;\">\n",
       "      <th></th>\n",
       "      <th>prediction</th>\n",
       "      <th>gt</th>\n",
       "      <th>Vol_left</th>\n",
       "      <th>Vol_right</th>\n",
       "      <th>Vol_3rd</th>\n",
       "      <th>Vol_4th</th>\n",
       "      <th>Vol_Acq</th>\n",
       "      <th>sid</th>\n",
       "    </tr>\n",
       "  </thead>\n",
       "  <tbody>\n",
       "    <tr>\n",
       "      <th>0</th>\n",
       "      <td>/home/orco/data/VentrikelCNN/derivatives/nnUNe...</td>\n",
       "      <td>/home/orco/data/VentrikelCNN/derivatives/nnUNe...</td>\n",
       "      <td>0.945415</td>\n",
       "      <td>0.955518</td>\n",
       "      <td>0.969490</td>\n",
       "      <td>0.963869</td>\n",
       "      <td>0.845411</td>\n",
       "      <td>sub-V083</td>\n",
       "    </tr>\n",
       "    <tr>\n",
       "      <th>1</th>\n",
       "      <td>/home/orco/data/VentrikelCNN/derivatives/nnUNe...</td>\n",
       "      <td>/home/orco/data/VentrikelCNN/derivatives/nnUNe...</td>\n",
       "      <td>0.981807</td>\n",
       "      <td>0.984666</td>\n",
       "      <td>0.965899</td>\n",
       "      <td>0.948001</td>\n",
       "      <td>0.816176</td>\n",
       "      <td>sub-V108</td>\n",
       "    </tr>\n",
       "    <tr>\n",
       "      <th>2</th>\n",
       "      <td>/home/orco/data/VentrikelCNN/derivatives/nnUNe...</td>\n",
       "      <td>/home/orco/data/VentrikelCNN/derivatives/nnUNe...</td>\n",
       "      <td>0.979531</td>\n",
       "      <td>0.961349</td>\n",
       "      <td>0.955765</td>\n",
       "      <td>0.766721</td>\n",
       "      <td>0.392157</td>\n",
       "      <td>sub-V115</td>\n",
       "    </tr>\n",
       "    <tr>\n",
       "      <th>3</th>\n",
       "      <td>/home/orco/data/VentrikelCNN/derivatives/nnUNe...</td>\n",
       "      <td>/home/orco/data/VentrikelCNN/derivatives/nnUNe...</td>\n",
       "      <td>0.944871</td>\n",
       "      <td>0.944085</td>\n",
       "      <td>0.834331</td>\n",
       "      <td>0.920129</td>\n",
       "      <td>0.795181</td>\n",
       "      <td>sub-V074</td>\n",
       "    </tr>\n",
       "    <tr>\n",
       "      <th>4</th>\n",
       "      <td>/home/orco/data/VentrikelCNN/derivatives/nnUNe...</td>\n",
       "      <td>/home/orco/data/VentrikelCNN/derivatives/nnUNe...</td>\n",
       "      <td>0.891487</td>\n",
       "      <td>0.974966</td>\n",
       "      <td>0.931481</td>\n",
       "      <td>0.926316</td>\n",
       "      <td>0.000000</td>\n",
       "      <td>sub-V266</td>\n",
       "    </tr>\n",
       "  </tbody>\n",
       "</table>\n",
       "</div>"
      ],
      "text/plain": [
       "                                          prediction  \\\n",
       "0  /home/orco/data/VentrikelCNN/derivatives/nnUNe...   \n",
       "1  /home/orco/data/VentrikelCNN/derivatives/nnUNe...   \n",
       "2  /home/orco/data/VentrikelCNN/derivatives/nnUNe...   \n",
       "3  /home/orco/data/VentrikelCNN/derivatives/nnUNe...   \n",
       "4  /home/orco/data/VentrikelCNN/derivatives/nnUNe...   \n",
       "\n",
       "                                                  gt  Vol_left  Vol_right  \\\n",
       "0  /home/orco/data/VentrikelCNN/derivatives/nnUNe...  0.945415   0.955518   \n",
       "1  /home/orco/data/VentrikelCNN/derivatives/nnUNe...  0.981807   0.984666   \n",
       "2  /home/orco/data/VentrikelCNN/derivatives/nnUNe...  0.979531   0.961349   \n",
       "3  /home/orco/data/VentrikelCNN/derivatives/nnUNe...  0.944871   0.944085   \n",
       "4  /home/orco/data/VentrikelCNN/derivatives/nnUNe...  0.891487   0.974966   \n",
       "\n",
       "    Vol_3rd   Vol_4th   Vol_Acq       sid  \n",
       "0  0.969490  0.963869  0.845411  sub-V083  \n",
       "1  0.965899  0.948001  0.816176  sub-V108  \n",
       "2  0.955765  0.766721  0.392157  sub-V115  \n",
       "3  0.834331  0.920129  0.795181  sub-V074  \n",
       "4  0.931481  0.926316  0.000000  sub-V266  "
      ]
     },
     "execution_count": 15,
     "metadata": {},
     "output_type": "execute_result"
    }
   ],
   "source": [
    "df.head()"
   ]
  },
  {
   "cell_type": "code",
   "execution_count": 20,
   "id": "4dee0413-cfe6-4b94-b14f-be7ce2fde264",
   "metadata": {},
   "outputs": [],
   "source": [
    "frees_etivs = '/home/orco/data/VentrikelCNN/code/stats/freesurfer_eTIVs.csv'\n",
    "etivs = pd.read_csv(frees_etivs)"
   ]
  },
  {
   "cell_type": "code",
   "execution_count": 19,
   "id": "b43945b9-93d3-4f2e-92ad-879bc8f75bd1",
   "metadata": {},
   "outputs": [
    {
     "data": {
      "text/html": [
       "<div>\n",
       "<style scoped>\n",
       "    .dataframe tbody tr th:only-of-type {\n",
       "        vertical-align: middle;\n",
       "    }\n",
       "\n",
       "    .dataframe tbody tr th {\n",
       "        vertical-align: top;\n",
       "    }\n",
       "\n",
       "    .dataframe thead th {\n",
       "        text-align: right;\n",
       "    }\n",
       "</style>\n",
       "<table border=\"1\" class=\"dataframe\">\n",
       "  <thead>\n",
       "    <tr style=\"text-align: right;\">\n",
       "      <th></th>\n",
       "      <th>path</th>\n",
       "      <th>eTIV</th>\n",
       "    </tr>\n",
       "  </thead>\n",
       "  <tbody>\n",
       "    <tr>\n",
       "      <th>0</th>\n",
       "      <td>/data/gpfs-1/users/dellorca_c/work/VentrikelCN...</td>\n",
       "      <td>468381</td>\n",
       "    </tr>\n",
       "    <tr>\n",
       "      <th>1</th>\n",
       "      <td>/data/gpfs-1/users/dellorca_c/work/VentrikelCN...</td>\n",
       "      <td>1399601</td>\n",
       "    </tr>\n",
       "    <tr>\n",
       "      <th>2</th>\n",
       "      <td>/data/gpfs-1/users/dellorca_c/work/VentrikelCN...</td>\n",
       "      <td>474830</td>\n",
       "    </tr>\n",
       "    <tr>\n",
       "      <th>3</th>\n",
       "      <td>/data/gpfs-1/users/dellorca_c/work/VentrikelCN...</td>\n",
       "      <td>959807</td>\n",
       "    </tr>\n",
       "    <tr>\n",
       "      <th>4</th>\n",
       "      <td>/data/gpfs-1/users/dellorca_c/work/VentrikelCN...</td>\n",
       "      <td>793015</td>\n",
       "    </tr>\n",
       "  </tbody>\n",
       "</table>\n",
       "</div>"
      ],
      "text/plain": [
       "                                                path     eTIV\n",
       "0  /data/gpfs-1/users/dellorca_c/work/VentrikelCN...   468381\n",
       "1  /data/gpfs-1/users/dellorca_c/work/VentrikelCN...  1399601\n",
       "2  /data/gpfs-1/users/dellorca_c/work/VentrikelCN...   474830\n",
       "3  /data/gpfs-1/users/dellorca_c/work/VentrikelCN...   959807\n",
       "4  /data/gpfs-1/users/dellorca_c/work/VentrikelCN...   793015"
      ]
     },
     "execution_count": 19,
     "metadata": {},
     "output_type": "execute_result"
    }
   ],
   "source": [
    "etivs.head()"
   ]
  },
  {
   "cell_type": "code",
   "execution_count": 24,
   "id": "67284e95-eefd-43c1-9afe-6d8f5ceb9d78",
   "metadata": {},
   "outputs": [
    {
     "data": {
      "text/html": [
       "<div>\n",
       "<style scoped>\n",
       "    .dataframe tbody tr th:only-of-type {\n",
       "        vertical-align: middle;\n",
       "    }\n",
       "\n",
       "    .dataframe tbody tr th {\n",
       "        vertical-align: top;\n",
       "    }\n",
       "\n",
       "    .dataframe thead th {\n",
       "        text-align: right;\n",
       "    }\n",
       "</style>\n",
       "<table border=\"1\" class=\"dataframe\">\n",
       "  <thead>\n",
       "    <tr style=\"text-align: right;\">\n",
       "      <th></th>\n",
       "      <th>path</th>\n",
       "      <th>eTIV</th>\n",
       "      <th>sid</th>\n",
       "    </tr>\n",
       "  </thead>\n",
       "  <tbody>\n",
       "    <tr>\n",
       "      <th>0</th>\n",
       "      <td>/data/gpfs-1/users/dellorca_c/work/VentrikelCN...</td>\n",
       "      <td>468381</td>\n",
       "      <td>sub-V001</td>\n",
       "    </tr>\n",
       "    <tr>\n",
       "      <th>1</th>\n",
       "      <td>/data/gpfs-1/users/dellorca_c/work/VentrikelCN...</td>\n",
       "      <td>1399601</td>\n",
       "      <td>sub-V002</td>\n",
       "    </tr>\n",
       "    <tr>\n",
       "      <th>2</th>\n",
       "      <td>/data/gpfs-1/users/dellorca_c/work/VentrikelCN...</td>\n",
       "      <td>474830</td>\n",
       "      <td>sub-V003</td>\n",
       "    </tr>\n",
       "    <tr>\n",
       "      <th>3</th>\n",
       "      <td>/data/gpfs-1/users/dellorca_c/work/VentrikelCN...</td>\n",
       "      <td>959807</td>\n",
       "      <td>sub-V004</td>\n",
       "    </tr>\n",
       "    <tr>\n",
       "      <th>4</th>\n",
       "      <td>/data/gpfs-1/users/dellorca_c/work/VentrikelCN...</td>\n",
       "      <td>793015</td>\n",
       "      <td>sub-V005</td>\n",
       "    </tr>\n",
       "  </tbody>\n",
       "</table>\n",
       "</div>"
      ],
      "text/plain": [
       "                                                path     eTIV       sid\n",
       "0  /data/gpfs-1/users/dellorca_c/work/VentrikelCN...   468381  sub-V001\n",
       "1  /data/gpfs-1/users/dellorca_c/work/VentrikelCN...  1399601  sub-V002\n",
       "2  /data/gpfs-1/users/dellorca_c/work/VentrikelCN...   474830  sub-V003\n",
       "3  /data/gpfs-1/users/dellorca_c/work/VentrikelCN...   959807  sub-V004\n",
       "4  /data/gpfs-1/users/dellorca_c/work/VentrikelCN...   793015  sub-V005"
      ]
     },
     "execution_count": 24,
     "metadata": {},
     "output_type": "execute_result"
    }
   ],
   "source": [
    "etivs['sid'] = etivs.path.apply(lambda x: x.split('/')[9])\n",
    "etivs.head()                   "
   ]
  },
  {
   "cell_type": "code",
   "execution_count": 28,
   "id": "3e986e27-bad3-48d9-a0b2-3bf561ebc61c",
   "metadata": {},
   "outputs": [
    {
     "data": {
      "text/html": [
       "<div>\n",
       "<style scoped>\n",
       "    .dataframe tbody tr th:only-of-type {\n",
       "        vertical-align: middle;\n",
       "    }\n",
       "\n",
       "    .dataframe tbody tr th {\n",
       "        vertical-align: top;\n",
       "    }\n",
       "\n",
       "    .dataframe thead th {\n",
       "        text-align: right;\n",
       "    }\n",
       "</style>\n",
       "<table border=\"1\" class=\"dataframe\">\n",
       "  <thead>\n",
       "    <tr style=\"text-align: right;\">\n",
       "      <th></th>\n",
       "      <th>sid</th>\n",
       "      <th>eTIV</th>\n",
       "      <th>Vol_left</th>\n",
       "      <th>Vol_right</th>\n",
       "      <th>Vol_3rd</th>\n",
       "      <th>Vol_4th</th>\n",
       "      <th>Vol_Acq</th>\n",
       "    </tr>\n",
       "  </thead>\n",
       "  <tbody>\n",
       "    <tr>\n",
       "      <th>0</th>\n",
       "      <td>sub-V083</td>\n",
       "      <td>1254638</td>\n",
       "      <td>0.945415</td>\n",
       "      <td>0.955518</td>\n",
       "      <td>0.969490</td>\n",
       "      <td>0.963869</td>\n",
       "      <td>0.845411</td>\n",
       "    </tr>\n",
       "    <tr>\n",
       "      <th>1</th>\n",
       "      <td>sub-V108</td>\n",
       "      <td>408478</td>\n",
       "      <td>0.981807</td>\n",
       "      <td>0.984666</td>\n",
       "      <td>0.965899</td>\n",
       "      <td>0.948001</td>\n",
       "      <td>0.816176</td>\n",
       "    </tr>\n",
       "    <tr>\n",
       "      <th>2</th>\n",
       "      <td>sub-V115</td>\n",
       "      <td>1218545</td>\n",
       "      <td>0.979531</td>\n",
       "      <td>0.961349</td>\n",
       "      <td>0.955765</td>\n",
       "      <td>0.766721</td>\n",
       "      <td>0.392157</td>\n",
       "    </tr>\n",
       "    <tr>\n",
       "      <th>3</th>\n",
       "      <td>sub-V074</td>\n",
       "      <td>1300745</td>\n",
       "      <td>0.944871</td>\n",
       "      <td>0.944085</td>\n",
       "      <td>0.834331</td>\n",
       "      <td>0.920129</td>\n",
       "      <td>0.795181</td>\n",
       "    </tr>\n",
       "    <tr>\n",
       "      <th>4</th>\n",
       "      <td>sub-V266</td>\n",
       "      <td>1646525</td>\n",
       "      <td>0.891487</td>\n",
       "      <td>0.974966</td>\n",
       "      <td>0.931481</td>\n",
       "      <td>0.926316</td>\n",
       "      <td>0.000000</td>\n",
       "    </tr>\n",
       "  </tbody>\n",
       "</table>\n",
       "</div>"
      ],
      "text/plain": [
       "        sid     eTIV  Vol_left  Vol_right   Vol_3rd   Vol_4th   Vol_Acq\n",
       "0  sub-V083  1254638  0.945415   0.955518  0.969490  0.963869  0.845411\n",
       "1  sub-V108   408478  0.981807   0.984666  0.965899  0.948001  0.816176\n",
       "2  sub-V115  1218545  0.979531   0.961349  0.955765  0.766721  0.392157\n",
       "3  sub-V074  1300745  0.944871   0.944085  0.834331  0.920129  0.795181\n",
       "4  sub-V266  1646525  0.891487   0.974966  0.931481  0.926316  0.000000"
      ]
     },
     "execution_count": 28,
     "metadata": {},
     "output_type": "execute_result"
    }
   ],
   "source": [
    "df = df.merge(etivs, on='sid').drop(columns='path')\n",
    "df = df[['sid', 'eTIV'] +[i for i in df.columns if i.startswith('Vol')]]\n",
    "df.head()"
   ]
  },
  {
   "cell_type": "code",
   "execution_count": 29,
   "id": "a7484c5e-654f-4448-b6f2-9e4c37856cc5",
   "metadata": {},
   "outputs": [
    {
     "data": {
      "text/plain": [
       "'2024319'"
      ]
     },
     "execution_count": 29,
     "metadata": {},
     "output_type": "execute_result"
    }
   ],
   "source": [
    "date = '{}{}{}'.format(datetime.now().year, datetime.now().month, datetime.now().day)\n",
    "date"
   ]
  },
  {
   "cell_type": "code",
   "execution_count": 30,
   "id": "80bf9f1e-deb4-451f-92cb-d64ad8a93608",
   "metadata": {},
   "outputs": [],
   "source": [
    "df.to_csv('./data/volumes_nnUNet_5classes_{}_{}.csv'.format('5FoldCV', date), index=False)"
   ]
  },
  {
   "cell_type": "code",
   "execution_count": null,
   "id": "134fa7fb-588d-49e5-8775-6108f6a3b35c",
   "metadata": {},
   "outputs": [],
   "source": []
  }
 ],
 "metadata": {
  "kernelspec": {
   "display_name": "Python 3 (ipykernel)",
   "language": "python",
   "name": "python3"
  },
  "language_info": {
   "codemirror_mode": {
    "name": "ipython",
    "version": 3
   },
   "file_extension": ".py",
   "mimetype": "text/x-python",
   "name": "python",
   "nbconvert_exporter": "python",
   "pygments_lexer": "ipython3",
   "version": "3.10.13"
  }
 },
 "nbformat": 4,
 "nbformat_minor": 5
}
