{
 "cells": [
  {
   "cell_type": "code",
   "execution_count": null,
   "id": "557a2397-4ad6-46ff-8c7e-89c0f2f6ea6f",
   "metadata": {},
   "outputs": [],
   "source": [
    "'''\n",
    "   \"51\":  \"Right lateral ventricle\",\n",
    "   \"52\":  \"Left lateral ventricle\",\n",
    "   \"4\":  \"third ventricle\",\n",
    "   \"11\":  \"fourth ventricle\"\n",
    "   \n",
    "   \"6\": acquedukt\n",
    "'''"
   ]
  },
  {
   "cell_type": "code",
   "execution_count": null,
   "id": "ad4d8e34-00eb-4aec-95bb-4f2b3b1108fa",
   "metadata": {},
   "outputs": [],
   "source": [
    "import glob\n",
    "import nibabel as nib\n",
    "import numpy as np\n",
    "import os\n",
    "import cupy as cp\n",
    "import pandas as pd\n",
    "import re\n",
    "import time\n",
    "import seaborn as sns\n",
    "from joblib import Parallel, delayed"
   ]
  },
  {
   "cell_type": "code",
   "execution_count": null,
   "id": "4388cc8d-6190-4b6e-a58a-a860fe4eb732",
   "metadata": {},
   "outputs": [],
   "source": [
    "def dice(f1, f2,n):\n",
    "    arr1 = nib.load(f1).get_fdata()\n",
    "    arr2 = nib.load(f2).get_fdata()\n",
    "    arr1 = np.where(arr1==n,1,0)\n",
    "    arr2 = np.where(arr2==n,1,0)\n",
    "    return (arr1 & arr2).sum()*2/(arr1.sum() + arr2.sum())"
   ]
  },
  {
   "cell_type": "code",
   "execution_count": null,
   "id": "9831bbc3-0597-4d61-8793-9e904cf7a40a",
   "metadata": {},
   "outputs": [],
   "source": [
    "manual_mask = '/home/orco/data/VentrikelCNN/derivatives/ventricle_seg_manual/sub-*/ses-01/anat/sub-V*_ses-01_space-T1w_desc-ventricle-mask.nii.gz'\n",
    "gt = glob.glob(manual_mask)"
   ]
  },
  {
   "cell_type": "code",
   "execution_count": null,
   "id": "620b3681-0809-4782-8441-ef759c643a63",
   "metadata": {},
   "outputs": [],
   "source": [
    "#gt"
   ]
  },
  {
   "cell_type": "code",
   "execution_count": null,
   "id": "08536e69-86b5-425a-b3ab-9dfbc63d690d",
   "metadata": {},
   "outputs": [],
   "source": [
    "subids = [i.split('/')[-4] for i in gt]\n"
   ]
  },
  {
   "cell_type": "code",
   "execution_count": null,
   "id": "8baa9a61-5cce-4904-872c-88f7a429dab4",
   "metadata": {},
   "outputs": [],
   "source": [
    "len(subids)"
   ]
  },
  {
   "cell_type": "code",
   "execution_count": null,
   "id": "141b9d6a-48ab-40f9-aeb2-8d80f28f9a5b",
   "metadata": {
    "collapsed": true,
    "jupyter": {
     "outputs_hidden": true
    },
    "tags": []
   },
   "outputs": [],
   "source": [
    "subids"
   ]
  },
  {
   "cell_type": "code",
   "execution_count": null,
   "id": "28adbb23-dbee-4e44-8665-87d9c18040bc",
   "metadata": {},
   "outputs": [],
   "source": [
    "cnn = '/home/orco/data/VentrikelCNN/derivatives/ventricle_seg/{subid}/{subid}_n4_mni_strip_seg_inverse.nii.gz'\n",
    "gt = '/home/orco/data/VentrikelCNN/derivatives/ventricle_seg_manual/{subid}/ses-01/anat/{subid}_ses-01_space-T1w_desc-ventricle-mask.nii.gz'"
   ]
  },
  {
   "cell_type": "code",
   "execution_count": null,
   "id": "a3feb11e-2a5c-4a3c-8a1b-6ccce79213a7",
   "metadata": {},
   "outputs": [],
   "source": [
    "roinums = [51, 52, 4, 11]"
   ]
  },
  {
   "cell_type": "code",
   "execution_count": null,
   "id": "96c25ce3-42ae-4e32-b812-cc178675737d",
   "metadata": {},
   "outputs": [],
   "source": [
    "cnns =[cnn.format(subid=i) for i in subids]\n",
    "gtss =[gt.format(subid=i) for i in subids]"
   ]
  },
  {
   "cell_type": "code",
   "execution_count": null,
   "id": "24fb461f-bac2-4527-a38e-eeed4d9a4f66",
   "metadata": {},
   "outputs": [],
   "source": [
    "cnns =[nib.load(i) for i in cnns]\n",
    "gtss =[nib.load(i) for i in gtss]"
   ]
  },
  {
   "cell_type": "code",
   "execution_count": null,
   "id": "95389016-32b5-4eab-9876-b92db1c755f4",
   "metadata": {},
   "outputs": [],
   "source": [
    "start = time.time()\n",
    "d = dict()\n",
    "for i in subids:\n",
    "    try:\n",
    "        d[i] = Parallel(n_jobs=4)(delayed(dice)(cnn.format(i),gt.format(i),n) for n in roinums)\n",
    "        print('made: ', i)\n",
    "    except:\n",
    "        print('skipped: ', i)\n",
    "stop = time.time()\n",
    "print(stop-start)\n",
    "#748.1604852676392s"
   ]
  },
  {
   "cell_type": "code",
   "execution_count": null,
   "id": "c20710f3-ab86-4479-9aec-f7d598df2ec5",
   "metadata": {},
   "outputs": [],
   "source": []
  }
 ],
 "metadata": {
  "kernelspec": {
   "display_name": "Python 3 (ipykernel)",
   "language": "python",
   "name": "python3"
  },
  "language_info": {
   "codemirror_mode": {
    "name": "ipython",
    "version": 3
   },
   "file_extension": ".py",
   "mimetype": "text/x-python",
   "name": "python",
   "nbconvert_exporter": "python",
   "pygments_lexer": "ipython3",
   "version": "3.10.2"
  }
 },
 "nbformat": 4,
 "nbformat_minor": 5
}
