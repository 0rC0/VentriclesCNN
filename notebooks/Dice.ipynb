{
 "cells": [
  {
   "cell_type": "code",
   "execution_count": 57,
   "id": "557a2397-4ad6-46ff-8c7e-89c0f2f6ea6f",
   "metadata": {},
   "outputs": [
    {
     "data": {
      "text/plain": [
       "'\\n   \"51\":  \"Right lateral ventricle\",\\n   \"52\":  \"Left lateral ventricle\",\\n   \"4\":  \"third ventricle\",\\n   \"11\":  \"fourth ventricle\"\\n   \\n   \"6\": acquedukt\\n'"
      ]
     },
     "execution_count": 57,
     "metadata": {},
     "output_type": "execute_result"
    }
   ],
   "source": [
    "'''\n",
    "   \"51\":  \"Right lateral ventricle\",\n",
    "   \"52\":  \"Left lateral ventricle\",\n",
    "   \"4\":  \"third ventricle\",\n",
    "   \"11\":  \"fourth ventricle\"\n",
    "   \n",
    "   \"6\": acquedukt\n",
    "'''"
   ]
  },
  {
   "cell_type": "code",
   "execution_count": 2,
   "id": "ad4d8e34-00eb-4aec-95bb-4f2b3b1108fa",
   "metadata": {},
   "outputs": [],
   "source": [
    "import glob\n",
    "import nibabel as nib\n",
    "import numpy as np\n",
    "import os\n",
    "import cupy as cp\n",
    "import pandas as pd\n",
    "import re\n",
    "import time\n",
    "import seaborn as sns\n",
    "from joblib import Parallel, delayed"
   ]
  },
  {
   "cell_type": "code",
   "execution_count": 59,
   "id": "4388cc8d-6190-4b6e-a58a-a860fe4eb732",
   "metadata": {},
   "outputs": [],
   "source": [
    "def dice(f1, f2,n):\n",
    "    arr1 = nib.load(f1).get_fdata()\n",
    "    arr2 = nib.load(f2).get_fdata()\n",
    "    arr1 = np.where(arr1==n,1,0)\n",
    "    arr2 = np.where(arr2==n,1,0)\n",
    "    return (arr1 & arr2).sum()*2/(arr1.sum() + arr2.sum())"
   ]
  },
  {
   "cell_type": "code",
   "execution_count": 3,
   "id": "9831bbc3-0597-4d61-8793-9e904cf7a40a",
   "metadata": {},
   "outputs": [],
   "source": [
    "manual_mask = '/home/orco/data/VentrikelCNN/derivatives/ventricle_seg_manual/sub-*/ses-01/anat/sub-V*_ses-01_space-T1w_desc-ventricle-mask.nii.gz'\n",
    "gt = glob.glob(manual_mask)"
   ]
  },
  {
   "cell_type": "code",
   "execution_count": 4,
   "id": "620b3681-0809-4782-8441-ef759c643a63",
   "metadata": {},
   "outputs": [],
   "source": [
    "#gt"
   ]
  },
  {
   "cell_type": "code",
   "execution_count": 5,
   "id": "08536e69-86b5-425a-b3ab-9dfbc63d690d",
   "metadata": {},
   "outputs": [],
   "source": [
    "subids = [i.split('/')[-4] for i in gt]\n"
   ]
  },
  {
   "cell_type": "code",
   "execution_count": 6,
   "id": "8baa9a61-5cce-4904-872c-88f7a429dab4",
   "metadata": {},
   "outputs": [
    {
     "data": {
      "text/plain": [
       "146"
      ]
     },
     "execution_count": 6,
     "metadata": {},
     "output_type": "execute_result"
    }
   ],
   "source": [
    "len(subids)"
   ]
  },
  {
   "cell_type": "code",
   "execution_count": 68,
   "id": "141b9d6a-48ab-40f9-aeb2-8d80f28f9a5b",
   "metadata": {
    "collapsed": true,
    "jupyter": {
     "outputs_hidden": true
    },
    "tags": []
   },
   "outputs": [
    {
     "data": {
      "text/plain": [
       "['sub-V104',\n",
       " 'sub-V102',\n",
       " 'sub-V148',\n",
       " 'sub-V023',\n",
       " 'sub-V037',\n",
       " 'sub-V011',\n",
       " 'sub-V030',\n",
       " 'sub-V145',\n",
       " 'sub-V012',\n",
       " 'sub-V120',\n",
       " 'sub-V046',\n",
       " 'sub-V073',\n",
       " 'sub-V114',\n",
       " 'sub-V142',\n",
       " 'sub-V101',\n",
       " 'sub-V072',\n",
       " 'sub-V018',\n",
       " 'sub-V124',\n",
       " 'sub-V134',\n",
       " 'sub-V150',\n",
       " 'sub-V021',\n",
       " 'sub-V122',\n",
       " 'sub-V087',\n",
       " 'sub-V080',\n",
       " 'sub-V077',\n",
       " 'sub-V041',\n",
       " 'sub-V065',\n",
       " 'sub-V050',\n",
       " 'sub-V004',\n",
       " 'sub-V001',\n",
       " 'sub-V006',\n",
       " 'sub-V105',\n",
       " 'sub-V049',\n",
       " 'sub-V036',\n",
       " 'sub-V131',\n",
       " 'sub-V005',\n",
       " 'sub-V129',\n",
       " 'sub-V112',\n",
       " 'sub-V057',\n",
       " 'sub-V109',\n",
       " 'sub-V017',\n",
       " 'sub-V009',\n",
       " 'sub-V135',\n",
       " 'sub-V066',\n",
       " 'sub-V069',\n",
       " 'sub-V014',\n",
       " 'sub-V128',\n",
       " 'sub-V068',\n",
       " 'sub-V040',\n",
       " 'sub-V088',\n",
       " 'sub-V140',\n",
       " 'sub-V058',\n",
       " 'sub-V059',\n",
       " 'sub-V071',\n",
       " 'sub-V019',\n",
       " 'sub-V078',\n",
       " 'sub-V121',\n",
       " 'sub-V133',\n",
       " 'sub-V010',\n",
       " 'sub-V031',\n",
       " 'sub-V090',\n",
       " 'sub-V002',\n",
       " 'sub-V047',\n",
       " 'sub-V144',\n",
       " 'sub-V003',\n",
       " 'sub-V075',\n",
       " 'sub-V034',\n",
       " 'sub-V061',\n",
       " 'sub-V033',\n",
       " 'sub-V024',\n",
       " 'sub-V103',\n",
       " 'sub-V126',\n",
       " 'sub-V086',\n",
       " 'sub-V035',\n",
       " 'sub-V022',\n",
       " 'sub-V147',\n",
       " 'sub-V118',\n",
       " 'sub-V038',\n",
       " 'sub-V052',\n",
       " 'sub-V116',\n",
       " 'sub-V008',\n",
       " 'sub-V125',\n",
       " 'sub-V123',\n",
       " 'sub-V029',\n",
       " 'sub-V119',\n",
       " 'sub-V025',\n",
       " 'sub-V043',\n",
       " 'sub-V015',\n",
       " 'sub-V042',\n",
       " 'sub-V067',\n",
       " 'sub-V051',\n",
       " 'sub-V044',\n",
       " 'sub-V039',\n",
       " 'sub-V048',\n",
       " 'sub-V149',\n",
       " 'sub-V107',\n",
       " 'sub-V070',\n",
       " 'sub-V053',\n",
       " 'sub-V082',\n",
       " 'sub-V085',\n",
       " 'sub-V111',\n",
       " 'sub-V089',\n",
       " 'sub-V110',\n",
       " 'sub-V076',\n",
       " 'sub-V083',\n",
       " 'sub-V117',\n",
       " 'sub-V146',\n",
       " 'sub-V026',\n",
       " 'sub-V007',\n",
       " 'sub-V063',\n",
       " 'sub-V137',\n",
       " 'sub-V108',\n",
       " 'sub-V027',\n",
       " 'sub-V028',\n",
       " 'sub-V081',\n",
       " 'sub-V136',\n",
       " 'sub-V045',\n",
       " 'sub-V060',\n",
       " 'sub-V115',\n",
       " 'sub-V032',\n",
       " 'sub-V127',\n",
       " 'sub-V106',\n",
       " 'sub-V056',\n",
       " 'sub-V113',\n",
       " 'sub-V074',\n",
       " 'sub-V138']"
      ]
     },
     "execution_count": 68,
     "metadata": {},
     "output_type": "execute_result"
    }
   ],
   "source": [
    "subids"
   ]
  },
  {
   "cell_type": "code",
   "execution_count": 13,
   "id": "28adbb23-dbee-4e44-8665-87d9c18040bc",
   "metadata": {},
   "outputs": [],
   "source": [
    "cnn = '/home/orco/data/VentrikelCNN/derivatives/ventricle_seg/{subid}/{subid}_n4_mni_strip_seg_inverse.nii.gz'\n",
    "gt = '/home/orco/data/VentrikelCNN/derivatives/ventricle_seg_manual/{subid}/ses-01/anat/{subid}_ses-01_space-T1w_desc-ventricle-mask.nii.gz'"
   ]
  },
  {
   "cell_type": "code",
   "execution_count": 14,
   "id": "a3feb11e-2a5c-4a3c-8a1b-6ccce79213a7",
   "metadata": {},
   "outputs": [],
   "source": [
    "roinums = [51, 52, 4, 11]"
   ]
  },
  {
   "cell_type": "code",
   "execution_count": 15,
   "id": "96c25ce3-42ae-4e32-b812-cc178675737d",
   "metadata": {},
   "outputs": [],
   "source": [
    "cnns =[cnn.format(subid=i) for i in subids]\n",
    "gtss =[gt.format(subid=i) for i in subids]"
   ]
  },
  {
   "cell_type": "code",
   "execution_count": 16,
   "id": "24fb461f-bac2-4527-a38e-eeed4d9a4f66",
   "metadata": {},
   "outputs": [
    {
     "ename": "FileNotFoundError",
     "evalue": "No such file or no access: '/home/orco/data/VentrikelCNN/derivatives/ventricle_seg/sub-V291/sub-V291_n4_mni_strip_seg_inverse.nii.gz'",
     "output_type": "error",
     "traceback": [
      "\u001b[0;31m---------------------------------------------------------------------------\u001b[0m",
      "\u001b[0;31mFileNotFoundError\u001b[0m                         Traceback (most recent call last)",
      "File \u001b[0;32m~/anaconda3/envs/ventrikelcnn/lib/python3.10/site-packages/nibabel/loadsave.py:42\u001b[0m, in \u001b[0;36mload\u001b[0;34m(filename, **kwargs)\u001b[0m\n\u001b[1;32m     41\u001b[0m \u001b[38;5;28;01mtry\u001b[39;00m:\n\u001b[0;32m---> 42\u001b[0m     stat_result \u001b[38;5;241m=\u001b[39m \u001b[43mos\u001b[49m\u001b[38;5;241;43m.\u001b[39;49m\u001b[43mstat\u001b[49m\u001b[43m(\u001b[49m\u001b[43mfilename\u001b[49m\u001b[43m)\u001b[49m\n\u001b[1;32m     43\u001b[0m \u001b[38;5;28;01mexcept\u001b[39;00m \u001b[38;5;167;01mOSError\u001b[39;00m:\n",
      "\u001b[0;31mFileNotFoundError\u001b[0m: [Errno 2] No such file or directory: '/home/orco/data/VentrikelCNN/derivatives/ventricle_seg/sub-V291/sub-V291_n4_mni_strip_seg_inverse.nii.gz'",
      "\nDuring handling of the above exception, another exception occurred:\n",
      "\u001b[0;31mFileNotFoundError\u001b[0m                         Traceback (most recent call last)",
      "Input \u001b[0;32mIn [16]\u001b[0m, in \u001b[0;36m<module>\u001b[0;34m\u001b[0m\n\u001b[0;32m----> 1\u001b[0m cnns \u001b[38;5;241m=\u001b[39m[nib\u001b[38;5;241m.\u001b[39mload(i) \u001b[38;5;28;01mfor\u001b[39;00m i \u001b[38;5;129;01min\u001b[39;00m cnns]\n\u001b[1;32m      2\u001b[0m gtss \u001b[38;5;241m=\u001b[39m[nib\u001b[38;5;241m.\u001b[39mload(i) \u001b[38;5;28;01mfor\u001b[39;00m i \u001b[38;5;129;01min\u001b[39;00m gtss]\n",
      "Input \u001b[0;32mIn [16]\u001b[0m, in \u001b[0;36m<listcomp>\u001b[0;34m(.0)\u001b[0m\n\u001b[0;32m----> 1\u001b[0m cnns \u001b[38;5;241m=\u001b[39m[\u001b[43mnib\u001b[49m\u001b[38;5;241;43m.\u001b[39;49m\u001b[43mload\u001b[49m\u001b[43m(\u001b[49m\u001b[43mi\u001b[49m\u001b[43m)\u001b[49m \u001b[38;5;28;01mfor\u001b[39;00m i \u001b[38;5;129;01min\u001b[39;00m cnns]\n\u001b[1;32m      2\u001b[0m gtss \u001b[38;5;241m=\u001b[39m[nib\u001b[38;5;241m.\u001b[39mload(i) \u001b[38;5;28;01mfor\u001b[39;00m i \u001b[38;5;129;01min\u001b[39;00m gtss]\n",
      "File \u001b[0;32m~/anaconda3/envs/ventrikelcnn/lib/python3.10/site-packages/nibabel/loadsave.py:44\u001b[0m, in \u001b[0;36mload\u001b[0;34m(filename, **kwargs)\u001b[0m\n\u001b[1;32m     42\u001b[0m     stat_result \u001b[38;5;241m=\u001b[39m os\u001b[38;5;241m.\u001b[39mstat(filename)\n\u001b[1;32m     43\u001b[0m \u001b[38;5;28;01mexcept\u001b[39;00m \u001b[38;5;167;01mOSError\u001b[39;00m:\n\u001b[0;32m---> 44\u001b[0m     \u001b[38;5;28;01mraise\u001b[39;00m \u001b[38;5;167;01mFileNotFoundError\u001b[39;00m(\u001b[38;5;124mf\u001b[39m\u001b[38;5;124m\"\u001b[39m\u001b[38;5;124mNo such file or no access: \u001b[39m\u001b[38;5;124m'\u001b[39m\u001b[38;5;132;01m{\u001b[39;00mfilename\u001b[38;5;132;01m}\u001b[39;00m\u001b[38;5;124m'\u001b[39m\u001b[38;5;124m\"\u001b[39m)\n\u001b[1;32m     45\u001b[0m \u001b[38;5;28;01mif\u001b[39;00m stat_result\u001b[38;5;241m.\u001b[39mst_size \u001b[38;5;241m<\u001b[39m\u001b[38;5;241m=\u001b[39m \u001b[38;5;241m0\u001b[39m:\n\u001b[1;32m     46\u001b[0m     \u001b[38;5;28;01mraise\u001b[39;00m ImageFileError(\u001b[38;5;124mf\u001b[39m\u001b[38;5;124m\"\u001b[39m\u001b[38;5;124mEmpty file: \u001b[39m\u001b[38;5;124m'\u001b[39m\u001b[38;5;132;01m{\u001b[39;00mfilename\u001b[38;5;132;01m}\u001b[39;00m\u001b[38;5;124m'\u001b[39m\u001b[38;5;124m\"\u001b[39m)\n",
      "\u001b[0;31mFileNotFoundError\u001b[0m: No such file or no access: '/home/orco/data/VentrikelCNN/derivatives/ventricle_seg/sub-V291/sub-V291_n4_mni_strip_seg_inverse.nii.gz'"
     ]
    }
   ],
   "source": [
    "cnns =[nib.load(i) for i in cnns]\n",
    "gtss =[nib.load(i) for i in gtss]"
   ]
  },
  {
   "cell_type": "code",
   "execution_count": 75,
   "id": "95389016-32b5-4eab-9876-b92db1c755f4",
   "metadata": {},
   "outputs": [
    {
     "name": "stdout",
     "output_type": "stream",
     "text": [
      "skipped:  sub-V104\n",
      "skipped:  sub-V102\n",
      "skipped:  sub-V148\n",
      "skipped:  sub-V023\n",
      "skipped:  sub-V037\n",
      "skipped:  sub-V011\n",
      "skipped:  sub-V030\n",
      "skipped:  sub-V145\n",
      "skipped:  sub-V012\n",
      "skipped:  sub-V120\n",
      "skipped:  sub-V046\n",
      "skipped:  sub-V073\n",
      "skipped:  sub-V114\n",
      "skipped:  sub-V142\n",
      "skipped:  sub-V101\n",
      "skipped:  sub-V072\n",
      "skipped:  sub-V018\n",
      "skipped:  sub-V124\n",
      "skipped:  sub-V134\n",
      "skipped:  sub-V150\n",
      "skipped:  sub-V021\n",
      "skipped:  sub-V122\n",
      "skipped:  sub-V087\n",
      "skipped:  sub-V080\n",
      "skipped:  sub-V077\n",
      "skipped:  sub-V041\n",
      "skipped:  sub-V065\n",
      "skipped:  sub-V050\n",
      "skipped:  sub-V004\n",
      "skipped:  sub-V001\n",
      "skipped:  sub-V006\n",
      "skipped:  sub-V105\n",
      "skipped:  sub-V049\n",
      "skipped:  sub-V036\n",
      "skipped:  sub-V131\n",
      "skipped:  sub-V005\n",
      "skipped:  sub-V129\n",
      "skipped:  sub-V112\n",
      "skipped:  sub-V057\n",
      "skipped:  sub-V109\n",
      "skipped:  sub-V017\n",
      "skipped:  sub-V009\n",
      "skipped:  sub-V135\n",
      "skipped:  sub-V066\n",
      "skipped:  sub-V069\n",
      "skipped:  sub-V014\n",
      "skipped:  sub-V128\n",
      "skipped:  sub-V068\n",
      "skipped:  sub-V040\n",
      "skipped:  sub-V088\n",
      "skipped:  sub-V140\n",
      "skipped:  sub-V058\n",
      "skipped:  sub-V059\n",
      "skipped:  sub-V071\n",
      "skipped:  sub-V019\n",
      "skipped:  sub-V078\n",
      "skipped:  sub-V121\n",
      "skipped:  sub-V133\n",
      "skipped:  sub-V010\n",
      "skipped:  sub-V031\n",
      "skipped:  sub-V090\n",
      "skipped:  sub-V002\n",
      "skipped:  sub-V047\n",
      "skipped:  sub-V144\n",
      "skipped:  sub-V003\n",
      "skipped:  sub-V075\n",
      "skipped:  sub-V034\n",
      "skipped:  sub-V061\n",
      "skipped:  sub-V033\n",
      "skipped:  sub-V024\n",
      "skipped:  sub-V103\n",
      "skipped:  sub-V126\n",
      "skipped:  sub-V086\n",
      "skipped:  sub-V035\n",
      "skipped:  sub-V022\n",
      "skipped:  sub-V147\n",
      "skipped:  sub-V118\n",
      "skipped:  sub-V038\n",
      "skipped:  sub-V052\n",
      "skipped:  sub-V116\n",
      "skipped:  sub-V008\n",
      "skipped:  sub-V125\n",
      "skipped:  sub-V123\n",
      "skipped:  sub-V029\n",
      "skipped:  sub-V119\n",
      "skipped:  sub-V025\n",
      "skipped:  sub-V043\n",
      "skipped:  sub-V015\n",
      "skipped:  sub-V042\n",
      "skipped:  sub-V067\n",
      "skipped:  sub-V051\n",
      "skipped:  sub-V044\n",
      "skipped:  sub-V039\n",
      "skipped:  sub-V048\n",
      "skipped:  sub-V149\n",
      "skipped:  sub-V107\n",
      "skipped:  sub-V070\n",
      "skipped:  sub-V053\n",
      "skipped:  sub-V082\n",
      "skipped:  sub-V085\n",
      "skipped:  sub-V111\n",
      "skipped:  sub-V089\n",
      "skipped:  sub-V110\n",
      "skipped:  sub-V076\n",
      "skipped:  sub-V083\n",
      "skipped:  sub-V117\n",
      "skipped:  sub-V146\n",
      "skipped:  sub-V026\n",
      "skipped:  sub-V007\n",
      "skipped:  sub-V063\n",
      "skipped:  sub-V137\n",
      "skipped:  sub-V108\n",
      "skipped:  sub-V027\n",
      "skipped:  sub-V028\n",
      "skipped:  sub-V081\n",
      "skipped:  sub-V136\n",
      "skipped:  sub-V045\n",
      "skipped:  sub-V060\n",
      "skipped:  sub-V115\n",
      "skipped:  sub-V032\n",
      "skipped:  sub-V127\n",
      "skipped:  sub-V106\n",
      "skipped:  sub-V056\n",
      "skipped:  sub-V113\n",
      "skipped:  sub-V074\n",
      "skipped:  sub-V138\n",
      "0.045472145080566406\n"
     ]
    }
   ],
   "source": [
    "start = time.time()\n",
    "d = dict()\n",
    "for i in subids:\n",
    "    try:\n",
    "        d[i] = Parallel(n_jobs=4)(delayed(dice)(cnn.format(i),gt.format(i),n) for n in roinums)\n",
    "        print('made: ', i)\n",
    "    except:\n",
    "        print('skipped: ', i)\n",
    "stop = time.time()\n",
    "print(stop-start)\n",
    "#748.1604852676392s"
   ]
  },
  {
   "cell_type": "code",
   "execution_count": null,
   "id": "c20710f3-ab86-4479-9aec-f7d598df2ec5",
   "metadata": {},
   "outputs": [],
   "source": []
  }
 ],
 "metadata": {
  "kernelspec": {
   "display_name": "Python 3 (ipykernel)",
   "language": "python",
   "name": "python3"
  },
  "language_info": {
   "codemirror_mode": {
    "name": "ipython",
    "version": 3
   },
   "file_extension": ".py",
   "mimetype": "text/x-python",
   "name": "python",
   "nbconvert_exporter": "python",
   "pygments_lexer": "ipython3",
   "version": "3.10.2"
  }
 },
 "nbformat": 4,
 "nbformat_minor": 5
}
