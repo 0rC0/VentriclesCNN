{
 "cells": [
  {
   "cell_type": "code",
   "execution_count": 1,
   "id": "d2d932fb-54d7-413f-9f93-61b0960f3c10",
   "metadata": {},
   "outputs": [],
   "source": [
    "import pandas as pd\n",
    "import glob\n",
    "import os\n",
    "import shutil\n",
    "import re\n",
    "from joblib import Parallel, delayed\n",
    "import nibabel as nib\n",
    "import numpy as np\n",
    "import random\n",
    "import seaborn as sns\n",
    "from datetime import datetime"
   ]
  },
  {
   "cell_type": "code",
   "execution_count": 2,
   "id": "3ccca1d0-df22-4627-81dc-6f0a02031666",
   "metadata": {},
   "outputs": [],
   "source": [
    "import sys\n",
    "sys.path.append('/media/raid/orco/data/ICH/code/neurorad_bids_utils')\n",
    "from bids_utils.utils import utils, mask_utils"
   ]
  },
  {
   "cell_type": "code",
   "execution_count": null,
   "id": "8c8412e8-de93-491c-8a3c-5b8b0e683914",
   "metadata": {},
   "outputs": [],
   "source": []
  },
  {
   "cell_type": "code",
   "execution_count": 3,
   "id": "aacc6405-de79-4464-bf0d-69b0162273cd",
   "metadata": {},
   "outputs": [],
   "source": [
    "dataset_names = ['Dataset011_5FoldCV', 'Dataset012_5FoldCV', 'Dataset013_5FoldCV', 'Dataset014_5FoldCV', 'Dataset015_5FoldCV']"
   ]
  },
  {
   "cell_type": "code",
   "execution_count": 4,
   "id": "c95aa2f5-acf8-4fd4-9fb5-35f626a9ee7f",
   "metadata": {},
   "outputs": [
    {
     "data": {
      "text/plain": [
       "154"
      ]
     },
     "execution_count": 4,
     "metadata": {},
     "output_type": "execute_result"
    }
   ],
   "source": [
    "preds = glob.glob('/home/orco/data/VentrikelCNN/derivatives/nnUNet/nnUNet_raw/Dataset01*/test*/*.nii.gz')\n",
    "len(preds)"
   ]
  },
  {
   "cell_type": "code",
   "execution_count": 5,
   "id": "58c512ec-5be4-4db3-be5f-cfa7f6b7542c",
   "metadata": {},
   "outputs": [
    {
     "data": {
      "text/plain": [
       "'/home/orco/data/VentrikelCNN/derivatives/nnUNet/nnUNet_raw/Dataset015_5FoldCV/test_fold1/VentrikelCNN_083.nii.gz'"
      ]
     },
     "execution_count": 5,
     "metadata": {},
     "output_type": "execute_result"
    }
   ],
   "source": [
    "preds[0]"
   ]
  },
  {
   "cell_type": "code",
   "execution_count": 6,
   "id": "69d2ead1-4065-40ac-9a3b-77c54e68489f",
   "metadata": {},
   "outputs": [],
   "source": [
    "df = pd.DataFrame(preds)\n",
    "df.columns = ['prediction']\n",
    "df['gt'] = df.prediction.apply(lambda x: x.replace('test_fold1', 'labelsTs'))\n",
    "#df['fold'] = df.prediction.apply(lambda x: x.split('/')[-2].split('_')[-1])\n",
    "df['ds'] = df.prediction.apply(lambda x: x.split('/')[-3])"
   ]
  },
  {
   "cell_type": "code",
   "execution_count": 7,
   "id": "f768884b-8379-4df5-aecc-e8e0cae85ede",
   "metadata": {},
   "outputs": [
    {
     "data": {
      "text/html": [
       "<div>\n",
       "<style scoped>\n",
       "    .dataframe tbody tr th:only-of-type {\n",
       "        vertical-align: middle;\n",
       "    }\n",
       "\n",
       "    .dataframe tbody tr th {\n",
       "        vertical-align: top;\n",
       "    }\n",
       "\n",
       "    .dataframe thead th {\n",
       "        text-align: right;\n",
       "    }\n",
       "</style>\n",
       "<table border=\"1\" class=\"dataframe\">\n",
       "  <thead>\n",
       "    <tr style=\"text-align: right;\">\n",
       "      <th></th>\n",
       "      <th>prediction</th>\n",
       "      <th>gt</th>\n",
       "      <th>ds</th>\n",
       "    </tr>\n",
       "  </thead>\n",
       "  <tbody>\n",
       "    <tr>\n",
       "      <th>0</th>\n",
       "      <td>/home/orco/data/VentrikelCNN/derivatives/nnUNe...</td>\n",
       "      <td>/home/orco/data/VentrikelCNN/derivatives/nnUNe...</td>\n",
       "      <td>Dataset015_5FoldCV</td>\n",
       "    </tr>\n",
       "    <tr>\n",
       "      <th>1</th>\n",
       "      <td>/home/orco/data/VentrikelCNN/derivatives/nnUNe...</td>\n",
       "      <td>/home/orco/data/VentrikelCNN/derivatives/nnUNe...</td>\n",
       "      <td>Dataset015_5FoldCV</td>\n",
       "    </tr>\n",
       "    <tr>\n",
       "      <th>2</th>\n",
       "      <td>/home/orco/data/VentrikelCNN/derivatives/nnUNe...</td>\n",
       "      <td>/home/orco/data/VentrikelCNN/derivatives/nnUNe...</td>\n",
       "      <td>Dataset015_5FoldCV</td>\n",
       "    </tr>\n",
       "    <tr>\n",
       "      <th>3</th>\n",
       "      <td>/home/orco/data/VentrikelCNN/derivatives/nnUNe...</td>\n",
       "      <td>/home/orco/data/VentrikelCNN/derivatives/nnUNe...</td>\n",
       "      <td>Dataset015_5FoldCV</td>\n",
       "    </tr>\n",
       "    <tr>\n",
       "      <th>4</th>\n",
       "      <td>/home/orco/data/VentrikelCNN/derivatives/nnUNe...</td>\n",
       "      <td>/home/orco/data/VentrikelCNN/derivatives/nnUNe...</td>\n",
       "      <td>Dataset015_5FoldCV</td>\n",
       "    </tr>\n",
       "  </tbody>\n",
       "</table>\n",
       "</div>"
      ],
      "text/plain": [
       "                                          prediction  \\\n",
       "0  /home/orco/data/VentrikelCNN/derivatives/nnUNe...   \n",
       "1  /home/orco/data/VentrikelCNN/derivatives/nnUNe...   \n",
       "2  /home/orco/data/VentrikelCNN/derivatives/nnUNe...   \n",
       "3  /home/orco/data/VentrikelCNN/derivatives/nnUNe...   \n",
       "4  /home/orco/data/VentrikelCNN/derivatives/nnUNe...   \n",
       "\n",
       "                                                  gt                  ds  \n",
       "0  /home/orco/data/VentrikelCNN/derivatives/nnUNe...  Dataset015_5FoldCV  \n",
       "1  /home/orco/data/VentrikelCNN/derivatives/nnUNe...  Dataset015_5FoldCV  \n",
       "2  /home/orco/data/VentrikelCNN/derivatives/nnUNe...  Dataset015_5FoldCV  \n",
       "3  /home/orco/data/VentrikelCNN/derivatives/nnUNe...  Dataset015_5FoldCV  \n",
       "4  /home/orco/data/VentrikelCNN/derivatives/nnUNe...  Dataset015_5FoldCV  "
      ]
     },
     "execution_count": 7,
     "metadata": {},
     "output_type": "execute_result"
    }
   ],
   "source": [
    "df.head()"
   ]
  },
  {
   "cell_type": "code",
   "execution_count": 8,
   "id": "c5cc60f8-2da7-4f1d-b338-246e8206dca3",
   "metadata": {},
   "outputs": [
    {
     "data": {
      "text/plain": [
       "'/home/orco/data/VentrikelCNN/derivatives/nnUNet/nnUNet_raw/Dataset015_5FoldCV/test_fold1/VentrikelCNN_083.nii.gz'"
      ]
     },
     "execution_count": 8,
     "metadata": {},
     "output_type": "execute_result"
    }
   ],
   "source": [
    "df.prediction[0]"
   ]
  },
  {
   "cell_type": "code",
   "execution_count": 9,
   "id": "1e9c64ce-b86b-4a69-abe0-4d92adf5d3c5",
   "metadata": {},
   "outputs": [
    {
     "name": "stderr",
     "output_type": "stream",
     "text": [
      "/media/raid/orco/data/ICH/code/neurorad_bids_utils/bids_utils/utils/utils.py:24: RuntimeWarning: invalid value encountered in scalar divide\n",
      "  return 2*intersection/(a_arr.sum()+b_arr.sum())\n"
     ]
    }
   ],
   "source": [
    "res = []\n",
    "for i,j in zip(list(df.prediction),list(df['gt'])):\n",
    "    res.append([i,j] + utils.mp_dice_n(i, j, [1,2,3,4,5]))"
   ]
  },
  {
   "cell_type": "code",
   "execution_count": 10,
   "id": "0c0e6f9a-1736-4f4c-9856-9b02f6d3ec69",
   "metadata": {},
   "outputs": [
    {
     "data": {
      "text/html": [
       "<div>\n",
       "<style scoped>\n",
       "    .dataframe tbody tr th:only-of-type {\n",
       "        vertical-align: middle;\n",
       "    }\n",
       "\n",
       "    .dataframe tbody tr th {\n",
       "        vertical-align: top;\n",
       "    }\n",
       "\n",
       "    .dataframe thead th {\n",
       "        text-align: right;\n",
       "    }\n",
       "</style>\n",
       "<table border=\"1\" class=\"dataframe\">\n",
       "  <thead>\n",
       "    <tr style=\"text-align: right;\">\n",
       "      <th></th>\n",
       "      <th>0</th>\n",
       "      <th>1</th>\n",
       "      <th>2</th>\n",
       "      <th>3</th>\n",
       "      <th>4</th>\n",
       "      <th>5</th>\n",
       "      <th>6</th>\n",
       "    </tr>\n",
       "  </thead>\n",
       "  <tbody>\n",
       "    <tr>\n",
       "      <th>0</th>\n",
       "      <td>/home/orco/data/VentrikelCNN/derivatives/nnUNe...</td>\n",
       "      <td>/home/orco/data/VentrikelCNN/derivatives/nnUNe...</td>\n",
       "      <td>0.945415</td>\n",
       "      <td>0.955518</td>\n",
       "      <td>0.969490</td>\n",
       "      <td>0.963869</td>\n",
       "      <td>0.845411</td>\n",
       "    </tr>\n",
       "    <tr>\n",
       "      <th>1</th>\n",
       "      <td>/home/orco/data/VentrikelCNN/derivatives/nnUNe...</td>\n",
       "      <td>/home/orco/data/VentrikelCNN/derivatives/nnUNe...</td>\n",
       "      <td>0.981807</td>\n",
       "      <td>0.984666</td>\n",
       "      <td>0.965899</td>\n",
       "      <td>0.948001</td>\n",
       "      <td>0.816176</td>\n",
       "    </tr>\n",
       "    <tr>\n",
       "      <th>2</th>\n",
       "      <td>/home/orco/data/VentrikelCNN/derivatives/nnUNe...</td>\n",
       "      <td>/home/orco/data/VentrikelCNN/derivatives/nnUNe...</td>\n",
       "      <td>0.979531</td>\n",
       "      <td>0.961349</td>\n",
       "      <td>0.955765</td>\n",
       "      <td>0.766721</td>\n",
       "      <td>0.392157</td>\n",
       "    </tr>\n",
       "    <tr>\n",
       "      <th>3</th>\n",
       "      <td>/home/orco/data/VentrikelCNN/derivatives/nnUNe...</td>\n",
       "      <td>/home/orco/data/VentrikelCNN/derivatives/nnUNe...</td>\n",
       "      <td>0.944871</td>\n",
       "      <td>0.944085</td>\n",
       "      <td>0.834331</td>\n",
       "      <td>0.920129</td>\n",
       "      <td>0.795181</td>\n",
       "    </tr>\n",
       "    <tr>\n",
       "      <th>4</th>\n",
       "      <td>/home/orco/data/VentrikelCNN/derivatives/nnUNe...</td>\n",
       "      <td>/home/orco/data/VentrikelCNN/derivatives/nnUNe...</td>\n",
       "      <td>0.891487</td>\n",
       "      <td>0.974966</td>\n",
       "      <td>0.931481</td>\n",
       "      <td>0.926316</td>\n",
       "      <td>0.000000</td>\n",
       "    </tr>\n",
       "  </tbody>\n",
       "</table>\n",
       "</div>"
      ],
      "text/plain": [
       "                                                   0  \\\n",
       "0  /home/orco/data/VentrikelCNN/derivatives/nnUNe...   \n",
       "1  /home/orco/data/VentrikelCNN/derivatives/nnUNe...   \n",
       "2  /home/orco/data/VentrikelCNN/derivatives/nnUNe...   \n",
       "3  /home/orco/data/VentrikelCNN/derivatives/nnUNe...   \n",
       "4  /home/orco/data/VentrikelCNN/derivatives/nnUNe...   \n",
       "\n",
       "                                                   1         2         3  \\\n",
       "0  /home/orco/data/VentrikelCNN/derivatives/nnUNe...  0.945415  0.955518   \n",
       "1  /home/orco/data/VentrikelCNN/derivatives/nnUNe...  0.981807  0.984666   \n",
       "2  /home/orco/data/VentrikelCNN/derivatives/nnUNe...  0.979531  0.961349   \n",
       "3  /home/orco/data/VentrikelCNN/derivatives/nnUNe...  0.944871  0.944085   \n",
       "4  /home/orco/data/VentrikelCNN/derivatives/nnUNe...  0.891487  0.974966   \n",
       "\n",
       "          4         5         6  \n",
       "0  0.969490  0.963869  0.845411  \n",
       "1  0.965899  0.948001  0.816176  \n",
       "2  0.955765  0.766721  0.392157  \n",
       "3  0.834331  0.920129  0.795181  \n",
       "4  0.931481  0.926316  0.000000  "
      ]
     },
     "execution_count": 10,
     "metadata": {},
     "output_type": "execute_result"
    }
   ],
   "source": [
    "df = pd.DataFrame(res)\n",
    "df.head()"
   ]
  },
  {
   "cell_type": "code",
   "execution_count": 11,
   "id": "1e23cf65-2c64-4329-a073-5f61212e6e68",
   "metadata": {},
   "outputs": [
    {
     "data": {
      "text/plain": [
       "7"
      ]
     },
     "execution_count": 11,
     "metadata": {},
     "output_type": "execute_result"
    }
   ],
   "source": [
    "len(df.columns)"
   ]
  },
  {
   "cell_type": "code",
   "execution_count": 12,
   "id": "11bb2ae5-3a62-454c-a61d-a74365aa5582",
   "metadata": {},
   "outputs": [],
   "source": [
    "df.columns = ['prediction', 'gt', 'DSC_left', 'DSC_right', 'DSC_3rd', 'DSC_4th', 'DSC_Acq']\n"
   ]
  },
  {
   "cell_type": "code",
   "execution_count": 13,
   "id": "f25d63aa-8c9c-45ac-a9f5-547f6ffcecb3",
   "metadata": {},
   "outputs": [],
   "source": [
    "#df['fold'] = df.prediction.apply(lambda x: x.split('/')[-2].split('_')[-1])\n",
    "df['ds'] = df.prediction.apply(lambda x: x.split('/')[-3])"
   ]
  },
  {
   "cell_type": "code",
   "execution_count": null,
   "id": "659e44f6-13b9-4a95-b5f9-70c70b92775f",
   "metadata": {},
   "outputs": [],
   "source": []
  },
  {
   "cell_type": "code",
   "execution_count": 14,
   "id": "2a9fbcc0-b789-48cf-b574-e6d658716ab1",
   "metadata": {},
   "outputs": [
    {
     "data": {
      "text/html": [
       "<div>\n",
       "<style scoped>\n",
       "    .dataframe tbody tr th:only-of-type {\n",
       "        vertical-align: middle;\n",
       "    }\n",
       "\n",
       "    .dataframe tbody tr th {\n",
       "        vertical-align: top;\n",
       "    }\n",
       "\n",
       "    .dataframe thead th {\n",
       "        text-align: right;\n",
       "    }\n",
       "</style>\n",
       "<table border=\"1\" class=\"dataframe\">\n",
       "  <thead>\n",
       "    <tr style=\"text-align: right;\">\n",
       "      <th></th>\n",
       "      <th>prediction</th>\n",
       "      <th>gt</th>\n",
       "      <th>DSC_left</th>\n",
       "      <th>DSC_right</th>\n",
       "      <th>DSC_3rd</th>\n",
       "      <th>DSC_4th</th>\n",
       "      <th>DSC_Acq</th>\n",
       "      <th>ds</th>\n",
       "    </tr>\n",
       "  </thead>\n",
       "  <tbody>\n",
       "    <tr>\n",
       "      <th>0</th>\n",
       "      <td>/home/orco/data/VentrikelCNN/derivatives/nnUNe...</td>\n",
       "      <td>/home/orco/data/VentrikelCNN/derivatives/nnUNe...</td>\n",
       "      <td>0.945415</td>\n",
       "      <td>0.955518</td>\n",
       "      <td>0.969490</td>\n",
       "      <td>0.963869</td>\n",
       "      <td>0.845411</td>\n",
       "      <td>Dataset015_5FoldCV</td>\n",
       "    </tr>\n",
       "    <tr>\n",
       "      <th>1</th>\n",
       "      <td>/home/orco/data/VentrikelCNN/derivatives/nnUNe...</td>\n",
       "      <td>/home/orco/data/VentrikelCNN/derivatives/nnUNe...</td>\n",
       "      <td>0.981807</td>\n",
       "      <td>0.984666</td>\n",
       "      <td>0.965899</td>\n",
       "      <td>0.948001</td>\n",
       "      <td>0.816176</td>\n",
       "      <td>Dataset015_5FoldCV</td>\n",
       "    </tr>\n",
       "    <tr>\n",
       "      <th>2</th>\n",
       "      <td>/home/orco/data/VentrikelCNN/derivatives/nnUNe...</td>\n",
       "      <td>/home/orco/data/VentrikelCNN/derivatives/nnUNe...</td>\n",
       "      <td>0.979531</td>\n",
       "      <td>0.961349</td>\n",
       "      <td>0.955765</td>\n",
       "      <td>0.766721</td>\n",
       "      <td>0.392157</td>\n",
       "      <td>Dataset015_5FoldCV</td>\n",
       "    </tr>\n",
       "    <tr>\n",
       "      <th>3</th>\n",
       "      <td>/home/orco/data/VentrikelCNN/derivatives/nnUNe...</td>\n",
       "      <td>/home/orco/data/VentrikelCNN/derivatives/nnUNe...</td>\n",
       "      <td>0.944871</td>\n",
       "      <td>0.944085</td>\n",
       "      <td>0.834331</td>\n",
       "      <td>0.920129</td>\n",
       "      <td>0.795181</td>\n",
       "      <td>Dataset015_5FoldCV</td>\n",
       "    </tr>\n",
       "    <tr>\n",
       "      <th>4</th>\n",
       "      <td>/home/orco/data/VentrikelCNN/derivatives/nnUNe...</td>\n",
       "      <td>/home/orco/data/VentrikelCNN/derivatives/nnUNe...</td>\n",
       "      <td>0.891487</td>\n",
       "      <td>0.974966</td>\n",
       "      <td>0.931481</td>\n",
       "      <td>0.926316</td>\n",
       "      <td>0.000000</td>\n",
       "      <td>Dataset015_5FoldCV</td>\n",
       "    </tr>\n",
       "  </tbody>\n",
       "</table>\n",
       "</div>"
      ],
      "text/plain": [
       "                                          prediction  \\\n",
       "0  /home/orco/data/VentrikelCNN/derivatives/nnUNe...   \n",
       "1  /home/orco/data/VentrikelCNN/derivatives/nnUNe...   \n",
       "2  /home/orco/data/VentrikelCNN/derivatives/nnUNe...   \n",
       "3  /home/orco/data/VentrikelCNN/derivatives/nnUNe...   \n",
       "4  /home/orco/data/VentrikelCNN/derivatives/nnUNe...   \n",
       "\n",
       "                                                  gt  DSC_left  DSC_right  \\\n",
       "0  /home/orco/data/VentrikelCNN/derivatives/nnUNe...  0.945415   0.955518   \n",
       "1  /home/orco/data/VentrikelCNN/derivatives/nnUNe...  0.981807   0.984666   \n",
       "2  /home/orco/data/VentrikelCNN/derivatives/nnUNe...  0.979531   0.961349   \n",
       "3  /home/orco/data/VentrikelCNN/derivatives/nnUNe...  0.944871   0.944085   \n",
       "4  /home/orco/data/VentrikelCNN/derivatives/nnUNe...  0.891487   0.974966   \n",
       "\n",
       "    DSC_3rd   DSC_4th   DSC_Acq                  ds  \n",
       "0  0.969490  0.963869  0.845411  Dataset015_5FoldCV  \n",
       "1  0.965899  0.948001  0.816176  Dataset015_5FoldCV  \n",
       "2  0.955765  0.766721  0.392157  Dataset015_5FoldCV  \n",
       "3  0.834331  0.920129  0.795181  Dataset015_5FoldCV  \n",
       "4  0.931481  0.926316  0.000000  Dataset015_5FoldCV  "
      ]
     },
     "execution_count": 14,
     "metadata": {},
     "output_type": "execute_result"
    }
   ],
   "source": [
    "df.head()"
   ]
  },
  {
   "cell_type": "code",
   "execution_count": 21,
   "id": "551fa125-37fe-4707-909f-4be5e594d641",
   "metadata": {},
   "outputs": [],
   "source": [
    "df['sid'] = df.prediction.apply(lambda x: os.path.basename(x).split('_')[1].replace('.nii.gz',''))"
   ]
  },
  {
   "cell_type": "code",
   "execution_count": 22,
   "id": "c3f7ed91-c81d-4433-a3f2-830f4a9c3731",
   "metadata": {},
   "outputs": [
    {
     "data": {
      "text/html": [
       "<div>\n",
       "<style scoped>\n",
       "    .dataframe tbody tr th:only-of-type {\n",
       "        vertical-align: middle;\n",
       "    }\n",
       "\n",
       "    .dataframe tbody tr th {\n",
       "        vertical-align: top;\n",
       "    }\n",
       "\n",
       "    .dataframe thead th {\n",
       "        text-align: right;\n",
       "    }\n",
       "</style>\n",
       "<table border=\"1\" class=\"dataframe\">\n",
       "  <thead>\n",
       "    <tr style=\"text-align: right;\">\n",
       "      <th></th>\n",
       "      <th>prediction</th>\n",
       "      <th>gt</th>\n",
       "      <th>DSC_left</th>\n",
       "      <th>DSC_right</th>\n",
       "      <th>DSC_3rd</th>\n",
       "      <th>DSC_4th</th>\n",
       "      <th>DSC_Acq</th>\n",
       "      <th>ds</th>\n",
       "      <th>sid</th>\n",
       "    </tr>\n",
       "  </thead>\n",
       "  <tbody>\n",
       "    <tr>\n",
       "      <th>0</th>\n",
       "      <td>/home/orco/data/VentrikelCNN/derivatives/nnUNe...</td>\n",
       "      <td>/home/orco/data/VentrikelCNN/derivatives/nnUNe...</td>\n",
       "      <td>0.945415</td>\n",
       "      <td>0.955518</td>\n",
       "      <td>0.969490</td>\n",
       "      <td>0.963869</td>\n",
       "      <td>0.845411</td>\n",
       "      <td>Dataset015_5FoldCV</td>\n",
       "      <td>083</td>\n",
       "    </tr>\n",
       "    <tr>\n",
       "      <th>1</th>\n",
       "      <td>/home/orco/data/VentrikelCNN/derivatives/nnUNe...</td>\n",
       "      <td>/home/orco/data/VentrikelCNN/derivatives/nnUNe...</td>\n",
       "      <td>0.981807</td>\n",
       "      <td>0.984666</td>\n",
       "      <td>0.965899</td>\n",
       "      <td>0.948001</td>\n",
       "      <td>0.816176</td>\n",
       "      <td>Dataset015_5FoldCV</td>\n",
       "      <td>108</td>\n",
       "    </tr>\n",
       "    <tr>\n",
       "      <th>2</th>\n",
       "      <td>/home/orco/data/VentrikelCNN/derivatives/nnUNe...</td>\n",
       "      <td>/home/orco/data/VentrikelCNN/derivatives/nnUNe...</td>\n",
       "      <td>0.979531</td>\n",
       "      <td>0.961349</td>\n",
       "      <td>0.955765</td>\n",
       "      <td>0.766721</td>\n",
       "      <td>0.392157</td>\n",
       "      <td>Dataset015_5FoldCV</td>\n",
       "      <td>115</td>\n",
       "    </tr>\n",
       "    <tr>\n",
       "      <th>3</th>\n",
       "      <td>/home/orco/data/VentrikelCNN/derivatives/nnUNe...</td>\n",
       "      <td>/home/orco/data/VentrikelCNN/derivatives/nnUNe...</td>\n",
       "      <td>0.944871</td>\n",
       "      <td>0.944085</td>\n",
       "      <td>0.834331</td>\n",
       "      <td>0.920129</td>\n",
       "      <td>0.795181</td>\n",
       "      <td>Dataset015_5FoldCV</td>\n",
       "      <td>074</td>\n",
       "    </tr>\n",
       "    <tr>\n",
       "      <th>4</th>\n",
       "      <td>/home/orco/data/VentrikelCNN/derivatives/nnUNe...</td>\n",
       "      <td>/home/orco/data/VentrikelCNN/derivatives/nnUNe...</td>\n",
       "      <td>0.891487</td>\n",
       "      <td>0.974966</td>\n",
       "      <td>0.931481</td>\n",
       "      <td>0.926316</td>\n",
       "      <td>0.000000</td>\n",
       "      <td>Dataset015_5FoldCV</td>\n",
       "      <td>266</td>\n",
       "    </tr>\n",
       "  </tbody>\n",
       "</table>\n",
       "</div>"
      ],
      "text/plain": [
       "                                          prediction  \\\n",
       "0  /home/orco/data/VentrikelCNN/derivatives/nnUNe...   \n",
       "1  /home/orco/data/VentrikelCNN/derivatives/nnUNe...   \n",
       "2  /home/orco/data/VentrikelCNN/derivatives/nnUNe...   \n",
       "3  /home/orco/data/VentrikelCNN/derivatives/nnUNe...   \n",
       "4  /home/orco/data/VentrikelCNN/derivatives/nnUNe...   \n",
       "\n",
       "                                                  gt  DSC_left  DSC_right  \\\n",
       "0  /home/orco/data/VentrikelCNN/derivatives/nnUNe...  0.945415   0.955518   \n",
       "1  /home/orco/data/VentrikelCNN/derivatives/nnUNe...  0.981807   0.984666   \n",
       "2  /home/orco/data/VentrikelCNN/derivatives/nnUNe...  0.979531   0.961349   \n",
       "3  /home/orco/data/VentrikelCNN/derivatives/nnUNe...  0.944871   0.944085   \n",
       "4  /home/orco/data/VentrikelCNN/derivatives/nnUNe...  0.891487   0.974966   \n",
       "\n",
       "    DSC_3rd   DSC_4th   DSC_Acq                  ds  sid  \n",
       "0  0.969490  0.963869  0.845411  Dataset015_5FoldCV  083  \n",
       "1  0.965899  0.948001  0.816176  Dataset015_5FoldCV  108  \n",
       "2  0.955765  0.766721  0.392157  Dataset015_5FoldCV  115  \n",
       "3  0.834331  0.920129  0.795181  Dataset015_5FoldCV  074  \n",
       "4  0.931481  0.926316  0.000000  Dataset015_5FoldCV  266  "
      ]
     },
     "execution_count": 22,
     "metadata": {},
     "output_type": "execute_result"
    }
   ],
   "source": [
    "df.head()"
   ]
  },
  {
   "cell_type": "code",
   "execution_count": 24,
   "id": "41d0e647-bc06-47a7-b662-33dfb2c19f39",
   "metadata": {},
   "outputs": [],
   "source": [
    "df = df[['sid','ds'] + [i for i in df.columns if i.startswith('DSC')] + ['gt', 'prediction']]"
   ]
  },
  {
   "cell_type": "code",
   "execution_count": 27,
   "id": "0bcf0620-e034-46f5-a43c-58b72a1989b8",
   "metadata": {},
   "outputs": [
    {
     "data": {
      "text/plain": [
       "'2024319'"
      ]
     },
     "execution_count": 27,
     "metadata": {},
     "output_type": "execute_result"
    }
   ],
   "source": [
    "date = '{}{}{}'.format(datetime.now().year, datetime.now().month, datetime.now().day)\n",
    "date"
   ]
  },
  {
   "cell_type": "code",
   "execution_count": 30,
   "id": "30183632-b407-4779-80bb-8dc68b805673",
   "metadata": {},
   "outputs": [],
   "source": [
    "df.to_csv('./data/DSC_nnUNet_5classes_{}_{}.csv'.format('5FoldCV', date), index=False)"
   ]
  },
  {
   "cell_type": "code",
   "execution_count": null,
   "id": "f1cc63ff-b766-41d4-b437-78c50d9182e3",
   "metadata": {},
   "outputs": [],
   "source": []
  }
 ],
 "metadata": {
  "kernelspec": {
   "display_name": "Python 3 (ipykernel)",
   "language": "python",
   "name": "python3"
  },
  "language_info": {
   "codemirror_mode": {
    "name": "ipython",
    "version": 3
   },
   "file_extension": ".py",
   "mimetype": "text/x-python",
   "name": "python",
   "nbconvert_exporter": "python",
   "pygments_lexer": "ipython3",
   "version": "3.10.13"
  }
 },
 "nbformat": 4,
 "nbformat_minor": 5
}
