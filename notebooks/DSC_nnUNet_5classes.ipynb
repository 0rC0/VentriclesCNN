{
 "cells": [
  {
   "cell_type": "code",
   "execution_count": null,
   "id": "d2d932fb-54d7-413f-9f93-61b0960f3c10",
   "metadata": {},
   "outputs": [],
   "source": [
    "import pandas as pd\n",
    "import glob\n",
    "import os\n",
    "import shutil\n",
    "import re\n",
    "from joblib import Parallel, delayed\n",
    "import nibabel as nib\n",
    "import numpy as np\n",
    "import random\n",
    "import seaborn as sns\n",
    "from datetime import datetime"
   ]
  },
  {
   "cell_type": "code",
   "execution_count": null,
   "id": "3ccca1d0-df22-4627-81dc-6f0a02031666",
   "metadata": {},
   "outputs": [],
   "source": [
    "import sys\n",
    "sys.path.append('/media/raid/orco/data/ICH/code/neurorad_bids_utils')\n",
    "from bids_utils.utils import utils, mask_utils"
   ]
  },
  {
   "cell_type": "code",
   "execution_count": null,
   "id": "8c8412e8-de93-491c-8a3c-5b8b0e683914",
   "metadata": {},
   "outputs": [],
   "source": []
  },
  {
   "cell_type": "code",
   "execution_count": null,
   "id": "aacc6405-de79-4464-bf0d-69b0162273cd",
   "metadata": {},
   "outputs": [],
   "source": [
    "dataset_names = ['Dataset011_5FoldCV', 'Dataset012_5FoldCV', 'Dataset013_5FoldCV', 'Dataset014_5FoldCV', 'Dataset015_5FoldCV']"
   ]
  },
  {
   "cell_type": "code",
   "execution_count": null,
   "id": "c95aa2f5-acf8-4fd4-9fb5-35f626a9ee7f",
   "metadata": {},
   "outputs": [],
   "source": [
    "preds = glob.glob('/home/orco/data/VentrikelCNN/derivatives/nnUNet/nnUNet_raw/Dataset01*/test*/*.nii.gz')\n",
    "len(preds)"
   ]
  },
  {
   "cell_type": "code",
   "execution_count": null,
   "id": "58c512ec-5be4-4db3-be5f-cfa7f6b7542c",
   "metadata": {},
   "outputs": [],
   "source": [
    "preds[0]"
   ]
  },
  {
   "cell_type": "code",
   "execution_count": null,
   "id": "69d2ead1-4065-40ac-9a3b-77c54e68489f",
   "metadata": {},
   "outputs": [],
   "source": [
    "df = pd.DataFrame(preds)\n",
    "df.columns = ['prediction']\n",
    "df['gt'] = df.prediction.apply(lambda x: x.replace('test_fold1', 'labelsTs'))\n",
    "#df['fold'] = df.prediction.apply(lambda x: x.split('/')[-2].split('_')[-1])\n",
    "df['ds'] = df.prediction.apply(lambda x: x.split('/')[-3])"
   ]
  },
  {
   "cell_type": "code",
   "execution_count": null,
   "id": "f768884b-8379-4df5-aecc-e8e0cae85ede",
   "metadata": {},
   "outputs": [],
   "source": [
    "df.head()"
   ]
  },
  {
   "cell_type": "code",
   "execution_count": null,
   "id": "c5cc60f8-2da7-4f1d-b338-246e8206dca3",
   "metadata": {},
   "outputs": [],
   "source": [
    "df.prediction[0]"
   ]
  },
  {
   "cell_type": "code",
   "execution_count": null,
   "id": "1e9c64ce-b86b-4a69-abe0-4d92adf5d3c5",
   "metadata": {},
   "outputs": [],
   "source": [
    "res = []\n",
    "for i,j in zip(list(df.prediction),list(df['gt'])):\n",
    "    res.append([i,j] + utils.mp_dice_n(i, j, [1,2,3,4,5]))"
   ]
  },
  {
   "cell_type": "code",
   "execution_count": null,
   "id": "0c0e6f9a-1736-4f4c-9856-9b02f6d3ec69",
   "metadata": {},
   "outputs": [],
   "source": [
    "df = pd.DataFrame(res)\n",
    "df.head()"
   ]
  },
  {
   "cell_type": "code",
   "execution_count": null,
   "id": "1e23cf65-2c64-4329-a073-5f61212e6e68",
   "metadata": {},
   "outputs": [],
   "source": [
    "len(df.columns)"
   ]
  },
  {
   "cell_type": "code",
   "execution_count": null,
   "id": "11bb2ae5-3a62-454c-a61d-a74365aa5582",
   "metadata": {},
   "outputs": [],
   "source": [
    "df.columns = ['prediction', 'gt', 'DSC_left', 'DSC_right', 'DSC_3rd', 'DSC_4th', 'DSC_Acq']\n"
   ]
  },
  {
   "cell_type": "code",
   "execution_count": null,
   "id": "f25d63aa-8c9c-45ac-a9f5-547f6ffcecb3",
   "metadata": {},
   "outputs": [],
   "source": [
    "#df['fold'] = df.prediction.apply(lambda x: x.split('/')[-2].split('_')[-1])\n",
    "df['ds'] = df.prediction.apply(lambda x: x.split('/')[-3])"
   ]
  },
  {
   "cell_type": "code",
   "execution_count": null,
   "id": "659e44f6-13b9-4a95-b5f9-70c70b92775f",
   "metadata": {},
   "outputs": [],
   "source": []
  },
  {
   "cell_type": "code",
   "execution_count": null,
   "id": "2a9fbcc0-b789-48cf-b574-e6d658716ab1",
   "metadata": {},
   "outputs": [],
   "source": [
    "df.head()"
   ]
  },
  {
   "cell_type": "code",
   "execution_count": null,
   "id": "551fa125-37fe-4707-909f-4be5e594d641",
   "metadata": {},
   "outputs": [],
   "source": [
    "df['sid'] = df.prediction.apply(lambda x: os.path.basename(x).split('_')[1].replace('.nii.gz',''))"
   ]
  },
  {
   "cell_type": "code",
   "execution_count": null,
   "id": "c3f7ed91-c81d-4433-a3f2-830f4a9c3731",
   "metadata": {},
   "outputs": [],
   "source": [
    "df.head()"
   ]
  },
  {
   "cell_type": "code",
   "execution_count": null,
   "id": "41d0e647-bc06-47a7-b662-33dfb2c19f39",
   "metadata": {},
   "outputs": [],
   "source": [
    "df = df[['sid','ds'] + [i for i in df.columns if i.startswith('DSC')] + ['gt', 'prediction']]"
   ]
  },
  {
   "cell_type": "code",
   "execution_count": null,
   "id": "0bcf0620-e034-46f5-a43c-58b72a1989b8",
   "metadata": {},
   "outputs": [],
   "source": [
    "date = '{}{}{}'.format(datetime.now().year, datetime.now().month, datetime.now().day)\n",
    "date"
   ]
  },
  {
   "cell_type": "code",
   "execution_count": null,
   "id": "30183632-b407-4779-80bb-8dc68b805673",
   "metadata": {},
   "outputs": [],
   "source": [
    "df.to_csv('./data/DSC_nnUNet_5classes_{}_{}.csv'.format('5FoldCV', date), index=False)"
   ]
  },
  {
   "cell_type": "code",
   "execution_count": null,
   "id": "f1cc63ff-b766-41d4-b437-78c50d9182e3",
   "metadata": {},
   "outputs": [],
   "source": []
  }
 ],
 "metadata": {
  "kernelspec": {
   "display_name": "Python 3 (ipykernel)",
   "language": "python",
   "name": "python3"
  },
  "language_info": {
   "codemirror_mode": {
    "name": "ipython",
    "version": 3
   },
   "file_extension": ".py",
   "mimetype": "text/x-python",
   "name": "python",
   "nbconvert_exporter": "python",
   "pygments_lexer": "ipython3",
   "version": "3.10.13"
  }
 },
 "nbformat": 4,
 "nbformat_minor": 5
}
